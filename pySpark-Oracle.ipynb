{
 "cells": [
  {
   "cell_type": "code",
   "execution_count": 8,
   "id": "6e4a9a0a",
   "metadata": {},
   "outputs": [],
   "source": [
    "from pyspark.sql import SparkSession,Row,SQLContext,catalog\n",
    "from pyspark.sql.functions import col,lit,expr,instr,round,bround,monotonically_increasing_id,rand,lower,upper,ltrim,rtrim,lpad,rpad,trim,regexp_replace,regexp_extract,translate,locate"
   ]
  },
  {
   "cell_type": "code",
   "execution_count": 13,
   "id": "9cf27183",
   "metadata": {},
   "outputs": [],
   "source": [
    "spark=SparkSession.builder.config(\"spark.driver.extraClassPath\",r\"C:\\Users\\Kowshik\\anaconda3\\Lib\\site-packages\\pyspark\\jars\\ojdbc11.jar\").config(\"spark.executor.extraClassPath\",r\"C:\\Users\\Kowshik\\anaconda3\\Lib\\site-packages\\pyspark\\jars\\ojdbc11.jar\").appName(\"Oracle-Spark\").getOrCreate()"
   ]
  },
  {
   "cell_type": "code",
   "execution_count": 10,
   "id": "fb9ca0d9",
   "metadata": {},
   "outputs": [],
   "source": [
    "URL=\"jdbc:oracle:thin:@//localhost:1521/xepdb1\"\n",
    "DRIVER=\"oracle.jdbc.driver.OracleDriver\""
   ]
  },
  {
   "cell_type": "code",
   "execution_count": 17,
   "id": "aeffb166",
   "metadata": {},
   "outputs": [],
   "source": [
    "PUSHDOWN_QUERY=\"\"\"(Select * from PERSONS)\"\"\" \n",
    "df=spark.read.format(\"jdbc\").option(\"url\",URL).option(\"dbtable\",PUSHDOWN_QUERY).option(\"user\",\"system\").option(\"password\",\"admin\").option(\"driver\",DRIVER).load()"
   ]
  },
  {
   "cell_type": "code",
   "execution_count": 18,
   "id": "837869e6",
   "metadata": {},
   "outputs": [
    {
     "name": "stdout",
     "output_type": "stream",
     "text": [
      "+--------+-------------+---------+----------+-----------+\n",
      "|PERSONID|     LASTNAME|FIRSTNAME|   ADDRESS|       CITY|\n",
      "+--------+-------------+---------+----------+-----------+\n",
      "|       1|RAVI CHANDRAN|  KOWSHIK|HUBENER RD|SAN ANTONIO|\n",
      "|       2|     PRIYANGA|     SASI|HUBENER RD|SAN ANTONIO|\n",
      "+--------+-------------+---------+----------+-----------+\n",
      "\n"
     ]
    }
   ],
   "source": [
    "df.show()"
   ]
  },
  {
   "cell_type": "code",
   "execution_count": null,
   "id": "e8e01ddf",
   "metadata": {},
   "outputs": [],
   "source": []
  }
 ],
 "metadata": {
  "kernelspec": {
   "display_name": "Python 3 (ipykernel)",
   "language": "python",
   "name": "python3"
  },
  "language_info": {
   "codemirror_mode": {
    "name": "ipython",
    "version": 3
   },
   "file_extension": ".py",
   "mimetype": "text/x-python",
   "name": "python",
   "nbconvert_exporter": "python",
   "pygments_lexer": "ipython3",
   "version": "3.11.5"
  }
 },
 "nbformat": 4,
 "nbformat_minor": 5
}
